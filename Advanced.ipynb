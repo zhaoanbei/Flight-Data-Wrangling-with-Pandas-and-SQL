{
 "cells": [
  {
   "cell_type": "code",
   "execution_count": 2,
   "metadata": {},
   "outputs": [
    {
     "name": "stdout",
     "output_type": "stream",
     "text": [
      "   airline_id                                  airline_name alias iata  \\\n",
      "0           1                                Private flight          -   \n",
      "1           2                                   135 Airways              \n",
      "2           3                                 1Time Airline         1T   \n",
      "3           4  2 Sqn No 1 Elementary Flying Training School              \n",
      "4           5                               213 Flight Unit              \n",
      "\n",
      "  airline_icao callsign  airline_county airline_Y  \n",
      "0                                               Y  \n",
      "1          GNL  GENERAL   United States         N  \n",
      "2          RNX  NEXTIME    South Africa         Y  \n",
      "3          WYT           United Kingdom         N  \n",
      "4          TFU                   Russia         N  \n",
      "       r_airline_id  source_airport_id  destin_airport_id         stops\n",
      "count  66548.000000       66548.000000       66548.000000  66548.000000\n",
      "mean    3367.569754        2660.201929        2662.088192      0.000165\n",
      "std     3182.024330        1577.965637        1578.661433      0.012856\n",
      "min       10.000000           1.000000           1.000000      0.000000\n",
      "25%     1317.000000        1382.000000        1382.000000      0.000000\n",
      "50%     2942.000000        2958.000000        2958.000000      0.000000\n",
      "75%     4608.000000        3670.000000        3670.000000      0.000000\n",
      "max    19676.000000        9327.000000        9327.000000      1.000000\n"
     ]
    }
   ],
   "source": [
    "#loading data\n",
    "import sqlite3\n",
    "engine = sqlite3.connect('HW1_DB')\n",
    "import pandas as pd\n",
    "\n",
    "airlines_df = pd.read_sql('select * from airlines', engine)\n",
    "print(airlines_df.head())\n",
    "airports_df = pd.read_sql('select * from airports',engine)\n",
    "routes_df = pd.read_sql('select * from routes', engine)\n",
    "print(routes_df.describe())"
   ]
  },
  {
   "cell_type": "code",
   "execution_count": 3,
   "metadata": {},
   "outputs": [],
   "source": [
    "## Step 6.1"
   ]
  },
  {
   "cell_type": "code",
   "execution_count": 4,
   "metadata": {},
   "outputs": [],
   "source": [
    "#6.1 Pulling Data from the Web\n",
    "import requests\n",
    "import io\n",
    "import pandas as pd\n",
    "aug_response = requests.get('http://big.dataanalytics.education/data/Flights-Aug-2016.csv',\n",
    "                            auth=('user', 'pass'))\n",
    "aug_csv = io.StringIO(aug_response.text)\n",
    "aug_flights_df =pd.read_csv(aug_csv)[['Year','Month','DayofMonth','Carrier','FlightNum','Origin',\n",
    "'Dest','DepTime','ArrTime','ArrDelayMinutes','Cancelled']]\n",
    "\n",
    "url=\"http://big.dataanalytics.education/data/Flights-Aug-2016.csv\"\n",
    "engine = sqlite3.connect('HW1_DB')\n",
    "# Use to_sql to save your Dataframes\n",
    "aug_flights_df.to_sql(name = 'flights', \n",
    "                    con = engine, \n",
    "                    index=False,\n",
    "                    if_exists='replace')\n",
    "\n",
    "url=\"http://big.dataanalytics.education/data/Flights-Sep-2016.csv\"\n",
    "aug_flights_df1=pd.read_csv(url)[['Year','Month','DayofMonth','Carrier','FlightNum','Origin',\n",
    "'Dest','DepTime','ArrTime','ArrDelayMinutes','Cancelled']]\n",
    "# Use to_sql to save your Dataframes\n",
    "aug_flights_df1.to_sql(name = 'flights', \n",
    "                    con = engine, \n",
    "                    index=False,\n",
    "                    if_exists='append')\n",
    "\n",
    "url=\"http://big.dataanalytics.education/data/Flights-Oct-2016.csv\"\n",
    "aug_flights_df2=pd.read_csv(url)[['Year','Month','DayofMonth','Carrier','FlightNum','Origin',\n",
    "'Dest','DepTime','ArrTime','ArrDelayMinutes','Cancelled']]\n",
    "# Use to_sql to save your Dataframes\n",
    "aug_flights_df2.to_sql(name = 'flights', \n",
    "                    con = engine, \n",
    "                    index=False,\n",
    "                    if_exists='append')\n"
   ]
  },
  {
   "cell_type": "code",
   "execution_count": null,
   "metadata": {},
   "outputs": [],
   "source": [
    "\n"
   ]
  },
  {
   "cell_type": "code",
   "execution_count": null,
   "metadata": {},
   "outputs": [],
   "source": []
  },
  {
   "cell_type": "code",
   "execution_count": 17,
   "metadata": {},
   "outputs": [],
   "source": [
    "#Great, now let’s see how much data we have in the SQL database.\n",
    "#Use (a modified version of) the Pandas command:\n",
    "#time consuming\n",
    "df = pd.read_sql('select COUNT() from flights', engine)"
   ]
  },
  {
   "cell_type": "code",
   "execution_count": 6,
   "metadata": {},
   "outputs": [],
   "source": [
    "#df.info\n",
    "count_df =pd.read_sql(\"select count(*) from flights\",engine)\n"
   ]
  },
  {
   "cell_type": "code",
   "execution_count": 7,
   "metadata": {},
   "outputs": [
    {
     "data": {
      "text/plain": [
       "1425851"
      ]
     },
     "execution_count": 7,
     "metadata": {},
     "output_type": "execute_result"
    }
   ],
   "source": [
    "##6.2 Comprehensive Flight Information Using SQL\n",
    "count_df.ix[0,0]"
   ]
  },
  {
   "cell_type": "code",
   "execution_count": 8,
   "metadata": {},
   "outputs": [],
   "source": [
    "## Step 6.2.1"
   ]
  },
  {
   "cell_type": "code",
   "execution_count": 9,
   "metadata": {},
   "outputs": [
    {
     "data": {
      "text/html": [
       "<div>\n",
       "<table border=\"1\" class=\"dataframe\">\n",
       "  <thead>\n",
       "    <tr style=\"text-align: right;\">\n",
       "      <th></th>\n",
       "      <th>Carrier</th>\n",
       "      <th>Dest</th>\n",
       "      <th>f_count</th>\n",
       "    </tr>\n",
       "  </thead>\n",
       "  <tbody>\n",
       "    <tr>\n",
       "      <th>0</th>\n",
       "      <td>AA</td>\n",
       "      <td>ABQ</td>\n",
       "      <td>446</td>\n",
       "    </tr>\n",
       "    <tr>\n",
       "      <th>1</th>\n",
       "      <td>AA</td>\n",
       "      <td>ALB</td>\n",
       "      <td>255</td>\n",
       "    </tr>\n",
       "    <tr>\n",
       "      <th>2</th>\n",
       "      <td>AA</td>\n",
       "      <td>AMA</td>\n",
       "      <td>70</td>\n",
       "    </tr>\n",
       "    <tr>\n",
       "      <th>3</th>\n",
       "      <td>AA</td>\n",
       "      <td>ANC</td>\n",
       "      <td>44</td>\n",
       "    </tr>\n",
       "    <tr>\n",
       "      <th>4</th>\n",
       "      <td>AA</td>\n",
       "      <td>ATL</td>\n",
       "      <td>2832</td>\n",
       "    </tr>\n",
       "  </tbody>\n",
       "</table>\n",
       "</div>"
      ],
      "text/plain": [
       "  Carrier Dest  f_count\n",
       "0      AA  ABQ      446\n",
       "1      AA  ALB      255\n",
       "2      AA  AMA       70\n",
       "3      AA  ANC       44\n",
       "4      AA  ATL     2832"
      ]
     },
     "execution_count": 9,
     "metadata": {},
     "output_type": "execute_result"
    }
   ],
   "source": [
    "join_df = pd.read_sql('SELECT flights.Carrier,flights.Dest,count(*) AS f_count \\\n",
    "FROM flights  \\\n",
    "JOIN routes ON flights.Carrier = routes.airline_iata_icao AND (flights.Dest=routes.destin_airport_iata_icao AND flights.Origin=routes.source_airport_iata_icao)\\\n",
    "GROUP BY flights.Carrier,flights.Dest \\\n",
    "ORDER BY Carrier, Dest \\\n",
    "LIMIT 60', engine)\n",
    "# join_df.head()\n",
    "join_df.head()"
   ]
  },
  {
   "cell_type": "code",
   "execution_count": 10,
   "metadata": {},
   "outputs": [],
   "source": [
    "## Step 6.2.2"
   ]
  },
  {
   "cell_type": "code",
   "execution_count": 11,
   "metadata": {},
   "outputs": [
    {
     "data": {
      "text/html": [
       "<div>\n",
       "<table border=\"1\" class=\"dataframe\">\n",
       "  <thead>\n",
       "    <tr style=\"text-align: right;\">\n",
       "      <th></th>\n",
       "      <th>Dest</th>\n",
       "      <th>f_count</th>\n",
       "    </tr>\n",
       "    <tr>\n",
       "      <th>Carrier</th>\n",
       "      <th></th>\n",
       "      <th></th>\n",
       "    </tr>\n",
       "  </thead>\n",
       "  <tbody>\n",
       "    <tr>\n",
       "      <th>DL</th>\n",
       "      <td>ABE</td>\n",
       "      <td>3</td>\n",
       "    </tr>\n",
       "    <tr>\n",
       "      <th>AA</th>\n",
       "      <td>ABQ</td>\n",
       "      <td>67</td>\n",
       "    </tr>\n",
       "    <tr>\n",
       "      <th>B6</th>\n",
       "      <td>ABQ</td>\n",
       "      <td>19</td>\n",
       "    </tr>\n",
       "    <tr>\n",
       "      <th>DL</th>\n",
       "      <td>ABQ</td>\n",
       "      <td>25</td>\n",
       "    </tr>\n",
       "    <tr>\n",
       "      <th>UA</th>\n",
       "      <td>ABQ</td>\n",
       "      <td>23</td>\n",
       "    </tr>\n",
       "  </tbody>\n",
       "</table>\n",
       "</div>"
      ],
      "text/plain": [
       "        Dest  f_count\n",
       "Carrier              \n",
       "DL       ABE        3\n",
       "AA       ABQ       67\n",
       "B6       ABQ       19\n",
       "DL       ABQ       25\n",
       "UA       ABQ       23"
      ]
     },
     "execution_count": 11,
     "metadata": {},
     "output_type": "execute_result"
    }
   ],
   "source": [
    "join_df = pd.read_sql('SELECT flights.Carrier, flights.Dest,count(*) AS f_count \\\n",
    "FROM flights  \\\n",
    "JOIN routes ON flights.Carrier = routes.airline_iata_icao AND (flights.Dest=routes.destin_airport_iata_icao AND flights.Origin=routes.source_airport_iata_icao)\\\n",
    "WHERE flights.Cancelled = 1.0 OR flights.ArrDelayMinutes >29  \\\n",
    "GROUP BY routes.airline_iata_icao,routes.destin_airport_iata_icao \\\n",
    "ORDER BY destin_airport_iata_icao, Dest \\\n",
    "LIMIT 60', engine)\n",
    "join_df = join_df.set_index('Carrier')\n",
    "#set_index\n",
    "join_df.head()\n"
   ]
  },
  {
   "cell_type": "code",
   "execution_count": 12,
   "metadata": {},
   "outputs": [],
   "source": [
    "## Step 6.2.3"
   ]
  },
  {
   "cell_type": "code",
   "execution_count": null,
   "metadata": {},
   "outputs": [],
   "source": [
    "aug_flights_df.to_csv(\"flights.csv\")"
   ]
  },
  {
   "cell_type": "code",
   "execution_count": 13,
   "metadata": {},
   "outputs": [
    {
     "data": {
      "text/plain": [
       "29"
      ]
     },
     "execution_count": 13,
     "metadata": {},
     "output_type": "execute_result"
    }
   ],
   "source": [
    "join_df = pd.read_sql('SELECT Carrier, Dest,count(*) AS a_count \\\n",
    "FROM flights  \\\n",
    "JOIN routes ON flights.Carrier = routes.airline_iata_icao AND (flights.Dest=routes.destin_airport_iata_icao AND flights.Origin=routes.source_airport_iata_icao)\\\n",
    "WHERE Cancelled = 1.0 OR ArrDelayMinutes >29  \\\n",
    "GROUP BY Carrier,Dest \\\n",
    "HAVING COUNT(*) > 1000 \\\n",
    "ORDER BY Dest,Carrier ', engine)\n",
    "\n",
    "len(join_df)"
   ]
  },
  {
   "cell_type": "code",
   "execution_count": 18,
   "metadata": {},
   "outputs": [
    {
     "data": {
      "text/html": [
       "<div>\n",
       "<table border=\"1\" class=\"dataframe\">\n",
       "  <thead>\n",
       "    <tr style=\"text-align: right;\">\n",
       "      <th></th>\n",
       "      <th>Carrier</th>\n",
       "      <th>Dest</th>\n",
       "      <th>a_count</th>\n",
       "    </tr>\n",
       "  </thead>\n",
       "  <tbody>\n",
       "    <tr>\n",
       "      <th>0</th>\n",
       "      <td>DL</td>\n",
       "      <td>ATL</td>\n",
       "      <td>4539</td>\n",
       "    </tr>\n",
       "    <tr>\n",
       "      <th>1</th>\n",
       "      <td>AA</td>\n",
       "      <td>BOS</td>\n",
       "      <td>1115</td>\n",
       "    </tr>\n",
       "    <tr>\n",
       "      <th>2</th>\n",
       "      <td>B6</td>\n",
       "      <td>BOS</td>\n",
       "      <td>1774</td>\n",
       "    </tr>\n",
       "    <tr>\n",
       "      <th>3</th>\n",
       "      <td>WN</td>\n",
       "      <td>BWI</td>\n",
       "      <td>1195</td>\n",
       "    </tr>\n",
       "    <tr>\n",
       "      <th>4</th>\n",
       "      <td>AA</td>\n",
       "      <td>CLT</td>\n",
       "      <td>1951</td>\n",
       "    </tr>\n",
       "  </tbody>\n",
       "</table>\n",
       "</div>"
      ],
      "text/plain": [
       "  Carrier Dest  a_count\n",
       "0      DL  ATL     4539\n",
       "1      AA  BOS     1115\n",
       "2      B6  BOS     1774\n",
       "3      WN  BWI     1195\n",
       "4      AA  CLT     1951"
      ]
     },
     "execution_count": 18,
     "metadata": {},
     "output_type": "execute_result"
    }
   ],
   "source": [
    "join_df.head()"
   ]
  },
  {
   "cell_type": "code",
   "execution_count": 20,
   "metadata": {},
   "outputs": [
    {
     "name": "stdout",
     "output_type": "stream",
     "text": [
      "['frequency', 'Carrier, Dest']\n"
     ]
    },
    {
     "data": {
      "text/plain": [
       "<matplotlib.axes._subplots.AxesSubplot at 0x7f2c55e7b128>"
      ]
     },
     "execution_count": 20,
     "metadata": {},
     "output_type": "execute_result"
    },
    {
     "data": {
      "image/png": "[encoded data removed]",
      "text/plain": [
       "<matplotlib.figure.Figure at 0x7f2c55e57b70>"
      ]
     },
     "metadata": {},
     "output_type": "display_data"
    }
   ],
   "source": [
    "\n",
    "empty_list = []\n",
    "for i in range(len(join_df)):\n",
    "    empty_list.append(join_df['Carrier'][i]+'-'+join_df['Dest'][i])\n",
    "\n",
    "bad_flight = pd.DataFrame(empty_list,join_df['a_count']).reset_index()\n",
    "bad_flight.columns=['frequency','Carrier, Dest']\n",
    "print(list(bad_flight))\n",
    "import matplotlib.pyplot as plt\n",
    "bad_flight.plot.bar(x='Carrier, Dest',y='frequency')"
   ]
  },
  {
   "cell_type": "code",
   "execution_count": 19,
   "metadata": {},
   "outputs": [],
   "source": [
    "## 6.3.1"
   ]
  },
  {
   "cell_type": "code",
   "execution_count": null,
   "metadata": {},
   "outputs": [],
   "source": []
  }
 ],
 "metadata": {
  "kernelspec": {
   "display_name": "Python 3",
   "language": "python",
   "name": "python3"
  },
  "language_info": {
   "codemirror_mode": {
    "name": "ipython",
    "version": 3
   },
   "file_extension": ".py",
   "mimetype": "text/x-python",
   "name": "python",
   "nbconvert_exporter": "python",
   "pygments_lexer": "ipython3",
   "version": "3.6.3"
  }
 },
 "nbformat": 4,
 "nbformat_minor": 2
}
